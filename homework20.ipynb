{
 "cells": [
  {
   "cell_type": "code",
   "execution_count": 50,
   "metadata": {},
   "outputs": [
    {
     "name": "stdout",
     "output_type": "stream",
     "text": [
      "Введите нужные года через запятую: 1900, 1950, 2000\n",
      "Самые популярные имена в эти годы: James, Robert, Linda\n"
     ]
    }
   ],
   "source": [
    "# Задание №1:\n",
    "import pandas as pd\n",
    "import os\n",
    "DATA_PATH = f'{os.getcwd()}/names/'\n",
    "def count_top3(file_names):\n",
    "    cols = ['Name', 'Gender', 'Count']\n",
    "    i = 0\n",
    "    names_year = []\n",
    "    while i < len(file_names):\n",
    "        names_year.append(pd.read_csv(DATA_PATH + file_names[i], names=cols))\n",
    "        i += 1\n",
    "    names_all = pd.concat(names_year, names=['Year', 'Pos'])\n",
    "    names_all_sort = names_all.sort_values(by='Count', ascending=False)\n",
    "    return list(names_all_sort.Name.head(3))\n",
    "\n",
    "def input_data_1():\n",
    "    years = input('Введите нужные года через запятую: ').split(', ')\n",
    "    file_names = []\n",
    "    for year in years:\n",
    "        file_names.append('yob' + year + '.txt')\n",
    "    print('Самые популярные имена в эти годы: {}, {}, {}'\n",
    "          .format(count_top3(file_names)[0], count_top3(file_names)[1], count_top3(file_names)[2]))\n",
    "\n",
    "input_data_1()"
   ]
  },
  {
   "cell_type": "code",
   "execution_count": 52,
   "metadata": {
    "scrolled": true
   },
   "outputs": [
    {
     "name": "stdout",
     "output_type": "stream",
     "text": [
      "Введите нужные года через запятую: 1888, 1984, 2012\n",
      "Самые популярные имена в эти годы: Michael, Christopher, Jennifer\n"
     ]
    }
   ],
   "source": [
    "input_data_1()"
   ]
  },
  {
   "cell_type": "code",
   "execution_count": 47,
   "metadata": {},
   "outputs": [
    {
     "name": "stdout",
     "output_type": "stream",
     "text": [
      "Введите нужные года через запятую: 1900, 1950, 2000\n",
      "{'Женщин': [299810, 1713259, 1814922], 'Мужчин': [150486, 1790871, 1962744]}\n"
     ]
    }
   ],
   "source": [
    "# Задание №2:\n",
    "def count_dynamics(file_names):\n",
    "    cols = ['Name', 'Gender', 'Count']\n",
    "    i = 0\n",
    "    names_year = []\n",
    "    count_women = []\n",
    "    count_men = []\n",
    "    while i < len(file_names):\n",
    "        names = pd.read_csv(DATA_PATH + file_names[i], names=cols)\n",
    "        count_women.append(names[names.Gender == 'F'].Count.sum())\n",
    "        count_men.append(names[names.Gender == 'M'].Count.sum())\n",
    "        i += 1\n",
    "    return dict(Женщин=count_women, Мужчин=count_men)\n",
    "\n",
    "def input_data_2():\n",
    "    years = input('Введите нужные года через запятую: ').split(', ')\n",
    "    file_names = []\n",
    "    for year in years:\n",
    "        file_names.append('yob' + year + '.txt')\n",
    "    print(count_dynamics(file_names))\n",
    "\n",
    "input_data_2()"
   ]
  },
  {
   "cell_type": "code",
   "execution_count": 48,
   "metadata": {},
   "outputs": [
    {
     "name": "stdout",
     "output_type": "stream",
     "text": [
      "Введите нужные года через запятую: 1892, 1934, 2012\n",
      "{'Женщин': [212339, 1044087, 1756347], 'Мужчин': [122036, 1032361, 1892094]}\n"
     ]
    }
   ],
   "source": [
    "input_data_2()"
   ]
  },
  {
   "cell_type": "code",
   "execution_count": null,
   "metadata": {},
   "outputs": [],
   "source": []
  }
 ],
 "metadata": {
  "kernelspec": {
   "display_name": "Python 3",
   "language": "python",
   "name": "python3"
  },
  "language_info": {
   "codemirror_mode": {
    "name": "ipython",
    "version": 3
   },
   "file_extension": ".py",
   "mimetype": "text/x-python",
   "name": "python",
   "nbconvert_exporter": "python",
   "pygments_lexer": "ipython3",
   "version": "3.6.4"
  }
 },
 "nbformat": 4,
 "nbformat_minor": 2
}
